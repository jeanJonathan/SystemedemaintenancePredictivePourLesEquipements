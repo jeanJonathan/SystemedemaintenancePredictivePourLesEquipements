{
 "cells": [
  {
   "cell_type": "markdown",
   "id": "bbbf07a0",
   "metadata": {},
   "source": [
    "# Système de maintenance prédictive pour les équipements ou moteurs d’Hélicoptère "
   ]
  },
  {
   "cell_type": "code",
   "execution_count": 3,
   "id": "90624323",
   "metadata": {},
   "outputs": [],
   "source": [
    "#Régression Linéaire : Exp cas simple\n",
    "# Importation des bibliothèques nécessaires :\n",
    "import numpy as np \n",
    "from sklearn.linear_model import LinearRegression \n",
    "import matplotlib.pyplot as plt \n",
    "\n"
   ]
  },
  {
   "cell_type": "code",
   "execution_count": 5,
   "id": "7e569f79",
   "metadata": {},
   "outputs": [],
   "source": [
    "# Création des data neccessaires \n",
    "#Supposons que nous avons les heures de fonctionnement du\n",
    "#moteur (X) et la durée de vie restante en heures (y)."
   ]
  },
  {
   "cell_type": "code",
   "execution_count": 10,
   "id": "df5ce8a1",
   "metadata": {},
   "outputs": [],
   "source": [
    "# Heures de fonctionnement du moteur\n",
    "X = np.array([[100], [200], [300], [400], [500], [600]])\n",
    "# Durée de vie restante estimée du moteur\n",
    "y = np.array([1500, 1300, 1100, 900, 700, 500])"
   ]
  },
  {
   "cell_type": "code",
   "execution_count": 8,
   "id": "361bac62",
   "metadata": {},
   "outputs": [
    {
     "name": "stdout",
     "output_type": "stream",
     "text": [
      "[[100]\n",
      " [200]\n",
      " [300]\n",
      " [400]\n",
      " [500]\n",
      " [600]]\n"
     ]
    }
   ],
   "source": [
    "# Creation d'une instance de LinearRegression \n",
    "\n",
    "model = LinearRegression()\n",
    "# Entrainement du modèle \n"
   ]
  },
  {
   "cell_type": "code",
   "execution_count": 9,
   "id": "1fe76414",
   "metadata": {},
   "outputs": [
    {
     "name": "stdout",
     "output_type": "stream",
     "text": [
      "[[1 2 3]\n",
      " [4 5 6]]\n"
     ]
    }
   ],
   "source": []
  },
  {
   "cell_type": "code",
   "execution_count": null,
   "id": "25944756",
   "metadata": {},
   "outputs": [],
   "source": []
  }
 ],
 "metadata": {
  "kernelspec": {
   "display_name": "Python 3 (ipykernel)",
   "language": "python",
   "name": "python3"
  },
  "language_info": {
   "codemirror_mode": {
    "name": "ipython",
    "version": 3
   },
   "file_extension": ".py",
   "mimetype": "text/x-python",
   "name": "python",
   "nbconvert_exporter": "python",
   "pygments_lexer": "ipython3",
   "version": "3.9.13"
  }
 },
 "nbformat": 4,
 "nbformat_minor": 5
}
