{
 "cells": [
  {
   "cell_type": "markdown",
   "id": "a20f3488",
   "metadata": {},
   "source": [
    "# Système de maintenance prédictive pour les équipements ou moteurs d’Hélicoptère "
   ]
  },
  {
   "cell_type": "code",
   "execution_count": 3,
   "id": "7f7be60e",
   "metadata": {},
   "outputs": [],
   "source": [
    "#Régression Linéaire : Exp cas simple\n",
    "# Importation des bibliothèques nécessaires :\n",
    "import numpy as np \n",
    "from sklearn.linear_model import LinearRegression \n",
    "import matplotlib.pyplot as plt \n",
    "\n"
   ]
  },
  {
   "cell_type": "code",
   "execution_count": 5,
   "id": "d5fe5d58",
   "metadata": {},
   "outputs": [],
   "source": [
    "# Création des data neccessaires \n",
    "#Supposons que nous avons les heures de fonctionnement du\n",
    "#moteur (X) et la durée de vie restante en heures (y)."
   ]
  },
  {
   "cell_type": "code",
   "execution_count": 10,
   "id": "a7bcbe06",
   "metadata": {},
   "outputs": [],
   "source": [
    "# Heures de fonctionnement du moteur\n",
    "X = np.array([[100], [200], [300], [400], [500], [600]])\n",
    "# Durée de vie restante estimée du moteur\n",
    "y = np.array([1500, 1300, 1100, 900, 700, 500])"
   ]
  },
  {
   "cell_type": "code",
   "execution_count": 11,
   "id": "7c48e637",
   "metadata": {},
   "outputs": [
    {
     "data": {
      "text/plain": [
       "LinearRegression()"
      ]
     },
     "execution_count": 11,
     "metadata": {},
     "output_type": "execute_result"
    }
   ],
   "source": [
    "# Creation d'une instance de LinearRegression \n",
    "model = LinearRegression()\n",
    "# Entrainement du modèle \n",
    "model.fit(X,Y)"
   ]
  },
  {
   "cell_type": "code",
   "execution_count": 14,
   "id": "2fd3a950",
   "metadata": {},
   "outputs": [
    {
     "name": "stdout",
     "output_type": "stream",
     "text": [
      "Duree de vie restante prévue est :  [[300.]]\n"
     ]
    }
   ],
   "source": [
    "# Prediction\n",
    "\n",
    "predicted_life = model.predict(np.array([[700]]))\n",
    "print(\"Duree de vie restante prévue est : \", predicted_life)"
   ]
  },
  {
   "cell_type": "code",
   "execution_count": null,
   "id": "bb1cca0c",
   "metadata": {},
   "outputs": [],
   "source": []
  }
 ],
 "metadata": {
  "kernelspec": {
   "display_name": "Python 3 (ipykernel)",
   "language": "python",
   "name": "python3"
  },
  "language_info": {
   "codemirror_mode": {
    "name": "ipython",
    "version": 3
   },
   "file_extension": ".py",
   "mimetype": "text/x-python",
   "name": "python",
   "nbconvert_exporter": "python",
   "pygments_lexer": "ipython3",
   "version": "3.9.13"
  }
 },
 "nbformat": 4,
 "nbformat_minor": 5
}
